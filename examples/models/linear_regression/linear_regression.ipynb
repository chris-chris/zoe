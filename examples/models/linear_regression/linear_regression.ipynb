{
  "cells": [
    {
      "cell_type": "markdown",
      "metadata": {},
      "source": [
        "# Linear Regression Benchmark\n",
        "\n",
        "This notebook benchmarks a linear regression model implemented in PyTorch. The model is then exported to ONNX format."
      ]
    },
    {
      "cell_type": "code",
      "execution_count": 1,
      "metadata": {},
      "outputs": [
        {
          "name": "stdout",
          "output_type": "stream",
          "text": [
            "Requirement already satisfied: torch in /Users/mac/.pyenv/versions/3.10.4/lib/python3.10/site-packages (2.2.2)\n",
            "Requirement already satisfied: numpy in /Users/mac/.pyenv/versions/3.10.4/lib/python3.10/site-packages (1.26.4)\n",
            "Requirement already satisfied: onnx in /Users/mac/.pyenv/versions/3.10.4/lib/python3.10/site-packages (1.16.2)\n",
            "Requirement already satisfied: filelock in /Users/mac/.pyenv/versions/3.10.4/lib/python3.10/site-packages (from torch) (3.15.4)\n",
            "Requirement already satisfied: networkx in /Users/mac/.pyenv/versions/3.10.4/lib/python3.10/site-packages (from torch) (3.3)\n",
            "Requirement already satisfied: typing-extensions>=4.8.0 in /Users/mac/.pyenv/versions/3.10.4/lib/python3.10/site-packages (from torch) (4.12.2)\n",
            "Requirement already satisfied: fsspec in /Users/mac/.pyenv/versions/3.10.4/lib/python3.10/site-packages (from torch) (2024.6.1)\n",
            "Requirement already satisfied: sympy in /Users/mac/.pyenv/versions/3.10.4/lib/python3.10/site-packages (from torch) (1.13.1)\n",
            "Requirement already satisfied: jinja2 in /Users/mac/.pyenv/versions/3.10.4/lib/python3.10/site-packages (from torch) (3.1.4)\n",
            "Requirement already satisfied: protobuf>=3.20.2 in /Users/mac/.pyenv/versions/3.10.4/lib/python3.10/site-packages (from onnx) (4.25.4)\n",
            "Requirement already satisfied: MarkupSafe>=2.0 in /Users/mac/.pyenv/versions/3.10.4/lib/python3.10/site-packages (from jinja2->torch) (2.1.5)\n",
            "Requirement already satisfied: mpmath<1.4,>=1.1.0 in /Users/mac/.pyenv/versions/3.10.4/lib/python3.10/site-packages (from sympy->torch) (1.3.0)\n",
            "\u001b[33mWARNING: You are using pip version 22.0.4; however, version 24.2 is available.\n",
            "You should consider upgrading via the '/Users/mac/.pyenv/versions/3.10.4/bin/python3.10 -m pip install --upgrade pip' command.\u001b[0m\u001b[33m\n",
            "\u001b[0m"
          ]
        }
      ],
      "source": [
        "# Install necessary packages\n",
        "!pip install torch numpy onnx"
      ]
    },
    {
      "cell_type": "code",
      "execution_count": 2,
      "metadata": {},
      "outputs": [],
      "source": [
        "# Import necessary libraries\n",
        "import torch\n",
        "import torch.nn as nn\n",
        "import numpy as np\n",
        "import onnx"
      ]
    },
    {
      "cell_type": "markdown",
      "metadata": {},
      "source": [
        "## Define the Linear Regression Model"
      ]
    },
    {
      "cell_type": "code",
      "execution_count": null,
      "metadata": {},
      "outputs": [],
      "source": [
        "# Define the Linear Regression class\n",
        "class LinearRegression(nn.Module):\n",
        "    def __init__(self):\n",
        "        super(LinearRegression, self).__init__()\n",
        "        self.linear = nn.Linear(1, 1)  # Single input and single output\n",
        "\n",
        "    def forward(self, x):\n",
        "        return self.linear(x)"
      ]
    },
    {
      "cell_type": "markdown",
      "metadata": {},
      "source": [
        "## Initialize the Model and Set Parameters"
      ]
    },
    {
      "cell_type": "code",
      "execution_count": null,
      "metadata": {},
      "outputs": [],
      "source": [
        "# Initialize the model\n",
        "model = LinearRegression()\n",
        "\n",
        "# Manually set the weights and bias\n",
        "with torch.no_grad():\n",
        "    model.linear.weight = nn.Parameter(torch.tensor([[2.0]]))  # Weight for the single input\n",
        "    model.linear.bias = nn.Parameter(torch.tensor([3.0]))  # Bias for the single output"
      ]
    },
    {
      "cell_type": "markdown",
      "metadata": {},
      "source": [
        "## Perform Forward Pass"
      ]
    },
    {
      "cell_type": "code",
      "execution_count": null,
      "metadata": {},
      "outputs": [],
      "source": [
        "# Create input data\n",
        "input_data = torch.tensor([[25.0]])  # Single input value in a batch of size 1\n",
        "\n",
        "# Perform forward pass through the network\n",
        "output = model(input_data)\n",
        "print(\"Model Output:\", output.item())"
      ]
    },
    {
      "cell_type": "markdown",
      "metadata": {},
      "source": [
        "## Export the Model to ONNX Format"
      ]
    },
    {
      "cell_type": "code",
      "execution_count": null,
      "metadata": {},
      "outputs": [],
      "source": [
        "# Export the model to ONNX format\n",
        "onnx_path = \"linear_regression.onnx\"\n",
        "torch.onnx.export(\n",
        "    model,                          # Model being run\n",
        "    input_data,                     # Model input (or a tuple for multiple inputs)\n",
        "    onnx_path,                      # Where to save the model (can be a file or file-like object)\n",
        "    export_params=True,             # Store the trained parameter weights inside the model file\n",
        "    opset_version=10,               # The ONNX version to export the model to\n",
        "    do_constant_folding=True,       # Whether to execute constant folding for optimization\n",
        "    input_names=['input'],          # The model's input names\n",
        "    output_names=['output'],        # The model's output names\n",
        "    dynamic_axes={'input': {0: 'batch_size'}, 'output': {0: 'batch_size'}}  # Variable length axes\n",
        ")\n",
        "\n",
        "print(f\"Model exported to {onnx_path}\")"
      ]
    },
    {
      "cell_type": "markdown",
      "metadata": {},
      "source": [
        "## Validate the ONNX Model"
      ]
    },
    {
      "cell_type": "code",
      "execution_count": null,
      "metadata": {},
      "outputs": [],
      "source": [
        "# Load and check the ONNX model\n",
        "onnx_model = onnx.load(onnx_path)\n",
        "onnx.checker.check_model(onnx_model)\n",
        "print('ONNX model is valid')"
      ]
    }
  ],
  "metadata": {
    "kernelspec": {
      "display_name": "Python 3",
      "language": "python",
      "name": "python3"
    },
    "language_info": {
      "codemirror_mode": {
        "name": "ipython",
        "version": 3
      },
      "file_extension": ".py",
      "mimetype": "text/x-python",
      "name": "python",
      "nbconvert_exporter": "python",
      "pygments_lexer": "ipython3",
      "version": "3.10.4"
    }
  },
  "nbformat": 4,
  "nbformat_minor": 4
}
